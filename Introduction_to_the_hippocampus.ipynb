{
 "cells": [
  {
   "cell_type": "markdown",
   "metadata": {},
   "source": [
    "# Introduction to the hippocampus \n",
    " - [course](https://learning.edx.org/course/course-v1:EPFLx+SimNeuro_2+3T2021/block-v1:EPFLx+SimNeuro_2+3T2021+type@sequential+block@ee3f5777a7484ad588c361f1b9ad8e27/block-v1:EPFLx+SimNeuro_2+3T2021+type@vertical+block@d78e7d695dc44540b0281e198ad0e661) \n",
    " - [pdf](https://courses.edx.org/assets/courseware/v1/decdc300df9772133d023ec009809849/asset-v1:EPFLx+SimNeuro_2+3T2021+type@asset+block/001_en_5x60ibwi.pdf)"
   ]
  }
 ],
 "metadata": {
  "language_info": {
   "name": "python"
  }
 },
 "nbformat": 4,
 "nbformat_minor": 2
}
